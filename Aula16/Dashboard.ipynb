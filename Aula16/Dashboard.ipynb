{
 "cells": [
  {
   "cell_type": "code",
   "execution_count": 47,
   "metadata": {},
   "outputs": [],
   "source": [
    "import pandas as pd\n",
    "import matplotlib.pyplot as plt"
   ]
  },
  {
   "cell_type": "code",
   "execution_count": 48,
   "metadata": {},
   "outputs": [
    {
     "name": "stdout",
     "output_type": "stream",
     "text": [
      "                                               lojas\n",
      "0  {'id': 1, 'dados_mensais': [{'mes': 1, 'fatura...\n",
      "1  {'id': 2, 'dados_mensais': [{'mes': 1, 'fatura...\n",
      "2  {'id': 3, 'dados_mensais': [{'mes': 1, 'fatura...\n",
      "3  {'id': 4, 'dados_mensais': [{'mes': 1, 'fatura...\n",
      "4  {'id': 5, 'dados_mensais': [{'mes': 1, 'fatura...\n"
     ]
    }
   ],
   "source": [
    "\n",
    "# Carregar o arquivo JSON usando o pandas\n",
    "df = pd.read_json('supermarket.json')\n",
    "\n",
    "# Exibir as primeiras linhas do DataFrame para verificar se os dados foram carregados corretamente\n",
    "print(df.head())"
   ]
  },
  {
   "cell_type": "code",
   "execution_count": 49,
   "metadata": {},
   "outputs": [
    {
     "data": {
      "text/plain": [
       "{'mes': 5,\n",
       " 'faturamento': {'higiene_e_saude': 12500,\n",
       "  'limpeza': 20500,\n",
       "  'bebidas': 7800,\n",
       "  'carne_e_laticinios': 4900,\n",
       "  'alimentacao': 5300},\n",
       " 'gastos_funcionarios': 25000,\n",
       " 'despesas_fornecedores': 20000,\n",
       " 'gastos_diversos': 7000}"
      ]
     },
     "execution_count": 49,
     "metadata": {},
     "output_type": "execute_result"
    }
   ],
   "source": [
    "# Função para extrair os dados de um determinado mês para uma loja específica\n",
    "def extrair_dados_loja(loja_id, mes):\n",
    "    for loja in df['lojas']:\n",
    "        if loja['id'] == loja_id:\n",
    "            for dados_mensais in loja['dados_mensais']:\n",
    "                if dados_mensais['mes'] == mes:\n",
    "                    return dados_mensais\n",
    "    return None\n",
    "\n",
    "extrair_dados_loja(5,5)\n",
    "# Fun"
   ]
  },
  {
   "cell_type": "code",
   "execution_count": 50,
   "metadata": {},
   "outputs": [
    {
     "name": "stdout",
     "output_type": "stream",
     "text": [
      "Faturamento Mensal: R$ \n"
     ]
    },
    {
     "data": {
      "text/plain": [
       "51000"
      ]
     },
     "execution_count": 50,
     "metadata": {},
     "output_type": "execute_result"
    }
   ],
   "source": [
    "# Função para retornar o Faturamento do Mês\n",
    "def extrair_faturamento_loja_mes(loja_id, mes):\n",
    "    for loja in df['lojas']:\n",
    "        if loja['id'] == loja_id:\n",
    "            for dados_mensais in loja['dados_mensais']:\n",
    "                if dados_mensais['mes'] == mes:\n",
    "                    for faturamento in dados_mensais['faturamento']:\n",
    "                        faturamento = sum(dados_mensais['faturamento'].values())\n",
    "                    return faturamento\n",
    "    return None\n",
    "print('Faturamento Mensal: R$ ')\n",
    "extrair_faturamento_loja_mes(5,5)"
   ]
  },
  {
   "cell_type": "code",
   "execution_count": 51,
   "metadata": {},
   "outputs": [
    {
     "data": {
      "text/plain": [
       "633600"
      ]
     },
     "execution_count": 51,
     "metadata": {},
     "output_type": "execute_result"
    }
   ],
   "source": [
    "# Função para retornar o Faturamento do Anual\n",
    "def extrair_faturamento_loja_ano(loja_id):\n",
    "    for loja in df['lojas']:\n",
    "        if loja['id'] == loja_id:\n",
    "            faturamento_anual =0\n",
    "            for dados_mensais in loja['dados_mensais']:\n",
    "                faturamento_anual += sum(dados_mensais['faturamento'].values())           \n",
    "    return faturamento_anual\n",
    "   \n",
    "extrair_faturamento_loja_ano(4)"
   ]
  },
  {
   "cell_type": "code",
   "execution_count": 52,
   "metadata": {},
   "outputs": [
    {
     "name": "stdout",
     "output_type": "stream",
     "text": [
      "Lucro Mensal: R$ \n"
     ]
    },
    {
     "data": {
      "text/plain": [
       "4800"
      ]
     },
     "execution_count": 52,
     "metadata": {},
     "output_type": "execute_result"
    }
   ],
   "source": [
    "# Função para retornar o Lucro Mensal\n",
    "def extrair_faturamento_loja_mes(loja_id, mes):\n",
    "    for loja in df['lojas']:\n",
    "        if loja['id'] == loja_id:\n",
    "            for dados_mensais in loja['dados_mensais']:\n",
    "                if dados_mensais['mes'] == mes:\n",
    "                    for faturamento in dados_mensais['faturamento']:\n",
    "                        faturamento = sum(dados_mensais['faturamento'].values())\n",
    "                        gastos = dados_mensais['gastos_funcionarios'] + dados_mensais['despesas_fornecedores'] + dados_mensais['gastos_diversos']\n",
    "                        lucro = faturamento - gastos            \n",
    "                    return lucro\n",
    "    return None\n",
    "print('Lucro Mensal: R$ ')\n",
    "extrair_faturamento_loja_mes(5,2)"
   ]
  },
  {
   "cell_type": "code",
   "execution_count": 53,
   "metadata": {},
   "outputs": [],
   "source": [
    "# Função para retornar o Lucro do Anual\n",
    "def extrair_lucro_loja_ano(loja_id):\n",
    "    for loja in df['lojas']:\n",
    "        if loja['id'] == loja_id:\n",
    "            lucro_anual = 0\n",
    "            for dados_mensais in loja['dados_mensais']:\n",
    "                faturamento_mes = sum(dados_mensais['faturamento'].values())\n",
    "                gastos_mes = dados_mensais['gastos_funcionarios'] + dados_mensais['despesas_fornecedores'] + dados_mensais['gastos_diversos']\n",
    "                lucro_anual += (faturamento_mes - gastos_mes)\n",
    "\n",
    "\n",
    "    return lucro_anual\n",
    "   "
   ]
  },
  {
   "cell_type": "code",
   "execution_count": 55,
   "metadata": {},
   "outputs": [
    {
     "name": "stdout",
     "output_type": "stream",
     "text": [
      "644800\n",
      "26200\n",
      "643000\n",
      "48400\n",
      "637500\n",
      "-127500\n",
      "633600\n",
      "-88900\n",
      "614500\n",
      "-54500\n"
     ]
    }
   ],
   "source": [
    "\n",
    "for i in range(1,6):\n",
    "    print(extrair_faturamento_loja_ano(i))\n",
    "    print(extrair_lucro_loja_ano(i))"
   ]
  },
  {
   "cell_type": "code",
   "execution_count": 62,
   "metadata": {},
   "outputs": [
    {
     "data": {
      "text/plain": [
       "[<matplotlib.lines.Line2D at 0x20e30c6ce90>]"
      ]
     },
     "execution_count": 62,
     "metadata": {},
     "output_type": "execute_result"
    },
    {
     "data": {
      "image/png": "[encoded data removed]",
      "text/plain": [
       "<Figure size 640x480 with 1 Axes>"
      ]
     },
     "metadata": {},
     "output_type": "display_data"
    }
   ],
   "source": [
    "lojas = range(1,6)\n",
    "faturamento = []\n",
    "for i in lojas:\n",
    "    faturamento.append(extrair_faturamento_loja_ano(i))\n",
    "\n",
    "plt.plot(lojas, faturamento,'o')\n"
   ]
  },
  {
   "cell_type": "code",
   "execution_count": 67,
   "metadata": {},
   "outputs": [
    {
     "data": {
      "text/plain": [
       "[<matplotlib.lines.Line2D at 0x20e347866f0>]"
      ]
     },
     "execution_count": 67,
     "metadata": {},
     "output_type": "execute_result"
    },
    {
     "data": {
      "image/png": "[encoded data removed]",
      "text/plain": [
       "<Figure size 640x480 with 1 Axes>"
      ]
     },
     "metadata": {},
     "output_type": "display_data"
    }
   ],
   "source": [
    "lojas = range(1,6)\n",
    "meses = range(1,13)\n",
    "faturamento_mes = []\n",
    "\n",
    "\n",
    "for i in meses:\n",
    "    faturamento_mes.append(extrair_faturamento_loja_mes(j,i))\n",
    "\n",
    "plt.plot(meses, faturamento_mes,'o',color='red')"
   ]
  },
  {
   "cell_type": "code",
   "execution_count": null,
   "metadata": {},
   "outputs": [],
   "source": [
    "def plot_distribuicao_gastos(lojas_id):\n",
    "    gastos_label = ['faturamento']\n",
    "    gastos_valores = [extrair_faturamento_loja_ano]\n",
    "    "
   ]
  }
 ],
 "metadata": {
  "kernelspec": {
   "display_name": "Python 3",
   "language": "python",
   "name": "python3"
  },
  "language_info": {
   "codemirror_mode": {
    "name": "ipython",
    "version": 3
   },
   "file_extension": ".py",
   "mimetype": "text/x-python",
   "name": "python",
   "nbconvert_exporter": "python",
   "pygments_lexer": "ipython3",
   "version": "3.12.1"
  }
 },
 "nbformat": 4,
 "nbformat_minor": 2
}
