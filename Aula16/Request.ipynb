{
 "cells": [
  {
   "cell_type": "code",
   "execution_count": 9,
   "metadata": {},
   "outputs": [],
   "source": [
    "import pandas as pd\n",
    "from urllib import request, response\n",
    "import requests"
   ]
  },
  {
   "cell_type": "code",
   "execution_count": 16,
   "metadata": {},
   "outputs": [
    {
     "name": "stdout",
     "output_type": "stream",
     "text": [
      "https://api.openweathermap.org/data/2.5/weather?q=americana&appid=b9ebe666087f299f5e2aad3a03d093b6\n",
      "{'coord': {'lon': -47.3314, 'lat': -22.7392}, 'weather': [{'id': 800, 'main': 'Clear', 'description': 'clear sky', 'icon': '01d'}], 'base': 'stations', 'main': {'temp': 302.76, 'feels_like': 301.55, 'temp_min': 301.92, 'temp_max': 302.76, 'pressure': 1015, 'humidity': 30, 'sea_level': 1015, 'grnd_level': 949}, 'visibility': 10000, 'wind': {'speed': 1.72, 'deg': 28, 'gust': 2.74}, 'clouds': {'all': 0}, 'dt': 1716406159, 'sys': {'type': 1, 'id': 8393, 'country': 'BR', 'sunrise': 1716370701, 'sunset': 1716410041}, 'timezone': -10800, 'id': 3472343, 'name': 'Americana', 'cod': 200}\n"
     ]
    }
   ],
   "source": [
    "# Exemplo de URL de API para buscar dados (substitua pela sua URL)\n",
    "apiKey = 'b9ebe666087f299f5e2aad3a03d093b6'\n",
    "baseUrl = 'https://api.openweathermap.org/data/2.5/weather'\n",
    "city = input('Informe a Cidade: ')\n",
    "url = f'{baseUrl}?q={city}&appid={apiKey}'\n",
    "print(url)\n",
    "# Fazer uma requisição GET\n",
    "response = requests.get(url)\n",
    "\n",
    "# Verificar se a requisição foi bem sucedida (código 200)\n",
    "if response.status_code == 200:\n",
    "    data = response.json()  # Converter resposta para JSON\n",
    "    print(data)\n",
    "else:\n",
    "    print('Falha na requisição:', response.status_code)"
   ]
  }
 ],
 "metadata": {
  "kernelspec": {
   "display_name": "Python 3",
   "language": "python",
   "name": "python3"
  },
  "language_info": {
   "codemirror_mode": {
    "name": "ipython",
    "version": 3
   },
   "file_extension": ".py",
   "mimetype": "text/x-python",
   "name": "python",
   "nbconvert_exporter": "python",
   "pygments_lexer": "ipython3",
   "version": "3.12.1"
  }
 },
 "nbformat": 4,
 "nbformat_minor": 2
}
