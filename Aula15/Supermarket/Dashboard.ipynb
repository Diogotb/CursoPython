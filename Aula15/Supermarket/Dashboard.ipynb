{
 "cells": [
  {
   "cell_type": "code",
   "execution_count": 2,
   "metadata": {},
   "outputs": [],
   "source": [
    "import pandas as pd\n",
    "import matplotlib.pyplot as plt"
   ]
  },
  {
   "cell_type": "code",
   "execution_count": 3,
   "metadata": {},
   "outputs": [
    {
     "name": "stdout",
     "output_type": "stream",
     "text": [
      "                                               lojas\n",
      "0  {'id': 1, 'dados_mensais': [{'mes': 1, 'fatura...\n",
      "1  {'id': 2, 'dados_mensais': [{'mes': 1, 'fatura...\n",
      "2  {'id': 3, 'dados_mensais': [{'mes': 1, 'fatura...\n",
      "3  {'id': 4, 'dados_mensais': [{'mes': 1, 'fatura...\n",
      "4  {'id': 5, 'dados_mensais': [{'mes': 1, 'fatura...\n"
     ]
    }
   ],
   "source": [
    "\n",
    "# Carregar o arquivo JSON usando o pandas\n",
    "df = pd.read_json('supermarket.json')\n",
    "\n",
    "# Exibir as primeiras linhas do DataFrame para verificar se os dados foram carregados corretamente\n",
    "print(df.head())"
   ]
  },
  {
   "cell_type": "code",
   "execution_count": 8,
   "metadata": {},
   "outputs": [],
   "source": [
    "# Função para extrair os dados de um determinado mês para uma loja específica\n",
    "def extrair_dados_loja(loja_id, mes):\n",
    "    for loja in df['lojas']:\n",
    "        if loja['id'] == loja_id:\n",
    "            for dados_mensais in loja['dados_mensais']:\n",
    "                if dados_mensais['mes'] == mes:\n",
    "                    return dados_mensais\n",
    "    return None"
   ]
  },
  {
   "cell_type": "code",
   "execution_count": 19,
   "metadata": {},
   "outputs": [],
   "source": [
    "# Função para plotar gráfico de linha com os dados de faturamento ao longo do ano para uma loja\n",
    "def plotar_grafico_faturamento(loja_id):\n",
    "    faturamento_mensal = []\n",
    "    meses = range(1, 13)\n",
    "    for mes in meses:\n",
    "        dados_mes = extrair_dados_loja(loja_id, mes)\n",
    "        faturamento_mensal.append(dados_mes['faturamento'])\n",
    "\n",
    "    plt.plot(meses, faturamento_mensal, marker='o')\n",
    "    plt.title(f'Faturamento Mensal - Loja {loja_id}')\n",
    "    plt.xlabel('Mês')\n",
    "    plt.ylabel('Faturamento')\n",
    "    plt.xticks(meses)\n",
    "    plt.grid(True)\n",
    "    plt.show()"
   ]
  },
  {
   "cell_type": "code",
   "execution_count": 15,
   "metadata": {},
   "outputs": [],
   "source": [
    "# Função para plotar gráfico de barras com os gastos totais ao longo do ano para uma loja\n",
    "def plotar_grafico_gastos_totais(loja_id):\n",
    "    gastos_totais = {'Funcionários': 0, 'Fornecedores': 0, 'Diversos': 0}\n",
    "    meses = range(1, 13)\n",
    "    for mes in meses:\n",
    "        dados_mes = extrair_dados_loja(loja_id, mes)\n",
    "        gastos_totais['Funcionários'] += dados_mes['gastos_funcionarios']\n",
    "        gastos_totais['Fornecedores'] += dados_mes['despesas_fornecedores']\n",
    "        gastos_totais['Diversos'] += dados_mes['gastos_diversos']\n",
    "\n",
    "    plt.bar(gastos_totais.keys(), gastos_totais.values())\n",
    "    plt.title(f'Gastos Totais - Loja {loja_id}')\n",
    "    plt.xlabel('Categoria de Gastos')\n",
    "    plt.ylabel('Valor')\n",
    "    plt.show()"
   ]
  },
  {
   "cell_type": "code",
   "execution_count": 10,
   "metadata": {},
   "outputs": [
    {
     "data": {
      "text/plain": [
       "{'mes': 2,\n",
       " 'faturamento': {'higiene_e_saude': 14900,\n",
       "  'limpeza': 19500,\n",
       "  'bebidas': 8700,\n",
       "  'carne_e_laticinios': 4800,\n",
       "  'alimentacao': 5400},\n",
       " 'gastos_funcionarios': 21000,\n",
       " 'despesas_fornecedores': 16000,\n",
       " 'gastos_diversos': 5100}"
      ]
     },
     "execution_count": 10,
     "metadata": {},
     "output_type": "execute_result"
    }
   ],
   "source": [
    "extrair_dados_loja(1,2)"
   ]
  },
  {
   "cell_type": "code",
   "execution_count": 22,
   "metadata": {},
   "outputs": [
    {
     "ename": "TypeError",
     "evalue": "extrair_dados_loja() takes 2 positional arguments but 3 were given",
     "output_type": "error",
     "traceback": [
      "\u001b[1;31m---------------------------------------------------------------------------\u001b[0m",
      "\u001b[1;31mTypeError\u001b[0m                                 Traceback (most recent call last)",
      "Cell \u001b[1;32mIn[22], line 1\u001b[0m\n\u001b[1;32m----> 1\u001b[0m \u001b[43mplotar_grafico_faturamento\u001b[49m\u001b[43m(\u001b[49m\u001b[38;5;241;43m1\u001b[39;49m\u001b[43m,\u001b[49m\u001b[38;5;241;43m1\u001b[39;49m\u001b[43m)\u001b[49m\n",
      "Cell \u001b[1;32mIn[19], line 5\u001b[0m, in \u001b[0;36mplotar_grafico_faturamento\u001b[1;34m(loja_id, dados_lojas)\u001b[0m\n\u001b[0;32m      3\u001b[0m meses \u001b[38;5;241m=\u001b[39m \u001b[38;5;28mrange\u001b[39m(\u001b[38;5;241m1\u001b[39m, \u001b[38;5;241m13\u001b[39m)\n\u001b[0;32m      4\u001b[0m \u001b[38;5;28;01mfor\u001b[39;00m mes \u001b[38;5;129;01min\u001b[39;00m meses:\n\u001b[1;32m----> 5\u001b[0m     dados_mes \u001b[38;5;241m=\u001b[39m \u001b[43mextrair_dados_loja\u001b[49m\u001b[43m(\u001b[49m\u001b[43mloja_id\u001b[49m\u001b[43m,\u001b[49m\u001b[43m \u001b[49m\u001b[43mmes\u001b[49m\u001b[43m,\u001b[49m\u001b[43m \u001b[49m\u001b[43mdados_lojas\u001b[49m\u001b[43m)\u001b[49m\n\u001b[0;32m      6\u001b[0m     faturamento_mensal\u001b[38;5;241m.\u001b[39mappend(dados_mes[\u001b[38;5;124m'\u001b[39m\u001b[38;5;124mfaturamento\u001b[39m\u001b[38;5;124m'\u001b[39m])\n\u001b[0;32m      8\u001b[0m plt\u001b[38;5;241m.\u001b[39mplot(meses, faturamento_mensal, marker\u001b[38;5;241m=\u001b[39m\u001b[38;5;124m'\u001b[39m\u001b[38;5;124mo\u001b[39m\u001b[38;5;124m'\u001b[39m)\n",
      "\u001b[1;31mTypeError\u001b[0m: extrair_dados_loja() takes 2 positional arguments but 3 were given"
     ]
    }
   ],
   "source": [
    "plotar_grafico_faturamento(1,1)"
   ]
  },
  {
   "cell_type": "code",
   "execution_count": 18,
   "metadata": {},
   "outputs": [
    {
     "data": {
      "image/png": "[encoded data removed]",
      "text/plain": [
       "<Figure size 640x480 with 1 Axes>"
      ]
     },
     "metadata": {},
     "output_type": "display_data"
    }
   ],
   "source": [
    "plotar_grafico_gastos_totais(1)"
   ]
  }
 ],
 "metadata": {
  "kernelspec": {
   "display_name": "Python 3",
   "language": "python",
   "name": "python3"
  },
  "language_info": {
   "codemirror_mode": {
    "name": "ipython",
    "version": 3
   },
   "file_extension": ".py",
   "mimetype": "text/x-python",
   "name": "python",
   "nbconvert_exporter": "python",
   "pygments_lexer": "ipython3",
   "version": "3.12.1"
  }
 },
 "nbformat": 4,
 "nbformat_minor": 2
}
